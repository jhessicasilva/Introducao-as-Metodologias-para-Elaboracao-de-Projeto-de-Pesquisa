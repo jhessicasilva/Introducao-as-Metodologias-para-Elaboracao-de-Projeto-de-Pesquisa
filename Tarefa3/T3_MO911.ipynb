{
  "nbformat": 4,
  "nbformat_minor": 0,
  "metadata": {
    "colab": {
      "provenance": []
    },
    "kernelspec": {
      "name": "python3",
      "display_name": "Python 3"
    },
    "language_info": {
      "name": "python"
    }
  },
  "cells": [
    {
      "cell_type": "markdown",
      "source": [
        "# Testes Estatísticos com Python"
      ],
      "metadata": {
        "id": "O3Wh3c6bUqxP"
      }
    },
    {
      "cell_type": "code",
      "execution_count": 2,
      "metadata": {
        "id": "_dCEDzgwG_M2"
      },
      "outputs": [],
      "source": [
        "import matplotlib.pyplot as plt\n",
        "import pandas as pd\n",
        "import numpy as np\n",
        "import scipy.stats as stats"
      ]
    },
    {
      "cell_type": "markdown",
      "source": [
        "# Carregando os dados "
      ],
      "metadata": {
        "id": "EuR7_GLwVZY4"
      }
    },
    {
      "cell_type": "markdown",
      "source": [
        "## Conjunto de dados bp.csv"
      ],
      "metadata": {
        "id": "zB-TKJsKW6DT"
      }
    },
    {
      "cell_type": "code",
      "source": [
        "bp_dataset = pd.read_csv('bp.csv')\n",
        "print(type(bp_dataset))\n",
        "bp_dataset"
      ],
      "metadata": {
        "colab": {
          "base_uri": "https://localhost:8080/",
          "height": 441
        },
        "id": "vWAfWJCIVnXl",
        "outputId": "d4f46ef4-b7f9-4792-9e3b-378ae0fe5acd"
      },
      "execution_count": 3,
      "outputs": [
        {
          "output_type": "stream",
          "name": "stdout",
          "text": [
            "<class 'pandas.core.frame.DataFrame'>\n"
          ]
        },
        {
          "output_type": "execute_result",
          "data": {
            "text/plain": [
              "     bp type\n",
              "0    68   No\n",
              "1    70  Yes\n",
              "2    82   No\n",
              "3    76   No\n",
              "4    60   No\n",
              "..   ..  ...\n",
              "195  58   No\n",
              "196  68  Yes\n",
              "197  70   No\n",
              "198  58   No\n",
              "199  62  Yes\n",
              "\n",
              "[200 rows x 2 columns]"
            ],
            "text/html": [
              "\n",
              "  <div id=\"df-a3cf46f8-48c8-48f9-9f92-834e09c99c28\">\n",
              "    <div class=\"colab-df-container\">\n",
              "      <div>\n",
              "<style scoped>\n",
              "    .dataframe tbody tr th:only-of-type {\n",
              "        vertical-align: middle;\n",
              "    }\n",
              "\n",
              "    .dataframe tbody tr th {\n",
              "        vertical-align: top;\n",
              "    }\n",
              "\n",
              "    .dataframe thead th {\n",
              "        text-align: right;\n",
              "    }\n",
              "</style>\n",
              "<table border=\"1\" class=\"dataframe\">\n",
              "  <thead>\n",
              "    <tr style=\"text-align: right;\">\n",
              "      <th></th>\n",
              "      <th>bp</th>\n",
              "      <th>type</th>\n",
              "    </tr>\n",
              "  </thead>\n",
              "  <tbody>\n",
              "    <tr>\n",
              "      <th>0</th>\n",
              "      <td>68</td>\n",
              "      <td>No</td>\n",
              "    </tr>\n",
              "    <tr>\n",
              "      <th>1</th>\n",
              "      <td>70</td>\n",
              "      <td>Yes</td>\n",
              "    </tr>\n",
              "    <tr>\n",
              "      <th>2</th>\n",
              "      <td>82</td>\n",
              "      <td>No</td>\n",
              "    </tr>\n",
              "    <tr>\n",
              "      <th>3</th>\n",
              "      <td>76</td>\n",
              "      <td>No</td>\n",
              "    </tr>\n",
              "    <tr>\n",
              "      <th>4</th>\n",
              "      <td>60</td>\n",
              "      <td>No</td>\n",
              "    </tr>\n",
              "    <tr>\n",
              "      <th>...</th>\n",
              "      <td>...</td>\n",
              "      <td>...</td>\n",
              "    </tr>\n",
              "    <tr>\n",
              "      <th>195</th>\n",
              "      <td>58</td>\n",
              "      <td>No</td>\n",
              "    </tr>\n",
              "    <tr>\n",
              "      <th>196</th>\n",
              "      <td>68</td>\n",
              "      <td>Yes</td>\n",
              "    </tr>\n",
              "    <tr>\n",
              "      <th>197</th>\n",
              "      <td>70</td>\n",
              "      <td>No</td>\n",
              "    </tr>\n",
              "    <tr>\n",
              "      <th>198</th>\n",
              "      <td>58</td>\n",
              "      <td>No</td>\n",
              "    </tr>\n",
              "    <tr>\n",
              "      <th>199</th>\n",
              "      <td>62</td>\n",
              "      <td>Yes</td>\n",
              "    </tr>\n",
              "  </tbody>\n",
              "</table>\n",
              "<p>200 rows × 2 columns</p>\n",
              "</div>\n",
              "      <button class=\"colab-df-convert\" onclick=\"convertToInteractive('df-a3cf46f8-48c8-48f9-9f92-834e09c99c28')\"\n",
              "              title=\"Convert this dataframe to an interactive table.\"\n",
              "              style=\"display:none;\">\n",
              "        \n",
              "  <svg xmlns=\"http://www.w3.org/2000/svg\" height=\"24px\"viewBox=\"0 0 24 24\"\n",
              "       width=\"24px\">\n",
              "    <path d=\"M0 0h24v24H0V0z\" fill=\"none\"/>\n",
              "    <path d=\"M18.56 5.44l.94 2.06.94-2.06 2.06-.94-2.06-.94-.94-2.06-.94 2.06-2.06.94zm-11 1L8.5 8.5l.94-2.06 2.06-.94-2.06-.94L8.5 2.5l-.94 2.06-2.06.94zm10 10l.94 2.06.94-2.06 2.06-.94-2.06-.94-.94-2.06-.94 2.06-2.06.94z\"/><path d=\"M17.41 7.96l-1.37-1.37c-.4-.4-.92-.59-1.43-.59-.52 0-1.04.2-1.43.59L10.3 9.45l-7.72 7.72c-.78.78-.78 2.05 0 2.83L4 21.41c.39.39.9.59 1.41.59.51 0 1.02-.2 1.41-.59l7.78-7.78 2.81-2.81c.8-.78.8-2.07 0-2.86zM5.41 20L4 18.59l7.72-7.72 1.47 1.35L5.41 20z\"/>\n",
              "  </svg>\n",
              "      </button>\n",
              "      \n",
              "  <style>\n",
              "    .colab-df-container {\n",
              "      display:flex;\n",
              "      flex-wrap:wrap;\n",
              "      gap: 12px;\n",
              "    }\n",
              "\n",
              "    .colab-df-convert {\n",
              "      background-color: #E8F0FE;\n",
              "      border: none;\n",
              "      border-radius: 50%;\n",
              "      cursor: pointer;\n",
              "      display: none;\n",
              "      fill: #1967D2;\n",
              "      height: 32px;\n",
              "      padding: 0 0 0 0;\n",
              "      width: 32px;\n",
              "    }\n",
              "\n",
              "    .colab-df-convert:hover {\n",
              "      background-color: #E2EBFA;\n",
              "      box-shadow: 0px 1px 2px rgba(60, 64, 67, 0.3), 0px 1px 3px 1px rgba(60, 64, 67, 0.15);\n",
              "      fill: #174EA6;\n",
              "    }\n",
              "\n",
              "    [theme=dark] .colab-df-convert {\n",
              "      background-color: #3B4455;\n",
              "      fill: #D2E3FC;\n",
              "    }\n",
              "\n",
              "    [theme=dark] .colab-df-convert:hover {\n",
              "      background-color: #434B5C;\n",
              "      box-shadow: 0px 1px 3px 1px rgba(0, 0, 0, 0.15);\n",
              "      filter: drop-shadow(0px 1px 2px rgba(0, 0, 0, 0.3));\n",
              "      fill: #FFFFFF;\n",
              "    }\n",
              "  </style>\n",
              "\n",
              "      <script>\n",
              "        const buttonEl =\n",
              "          document.querySelector('#df-a3cf46f8-48c8-48f9-9f92-834e09c99c28 button.colab-df-convert');\n",
              "        buttonEl.style.display =\n",
              "          google.colab.kernel.accessAllowed ? 'block' : 'none';\n",
              "\n",
              "        async function convertToInteractive(key) {\n",
              "          const element = document.querySelector('#df-a3cf46f8-48c8-48f9-9f92-834e09c99c28');\n",
              "          const dataTable =\n",
              "            await google.colab.kernel.invokeFunction('convertToInteractive',\n",
              "                                                     [key], {});\n",
              "          if (!dataTable) return;\n",
              "\n",
              "          const docLinkHtml = 'Like what you see? Visit the ' +\n",
              "            '<a target=\"_blank\" href=https://colab.research.google.com/notebooks/data_table.ipynb>data table notebook</a>'\n",
              "            + ' to learn more about interactive tables.';\n",
              "          element.innerHTML = '';\n",
              "          dataTable['output_type'] = 'display_data';\n",
              "          await google.colab.output.renderOutput(dataTable, element);\n",
              "          const docLink = document.createElement('div');\n",
              "          docLink.innerHTML = docLinkHtml;\n",
              "          element.appendChild(docLink);\n",
              "        }\n",
              "      </script>\n",
              "    </div>\n",
              "  </div>\n",
              "  "
            ]
          },
          "metadata": {},
          "execution_count": 3
        }
      ]
    },
    {
      "cell_type": "code",
      "source": [
        "bp_dataset.info()"
      ],
      "metadata": {
        "colab": {
          "base_uri": "https://localhost:8080/"
        },
        "id": "U8NQiAfwV02Q",
        "outputId": "e4ff0686-e54f-4787-d2ca-069c35a110fd"
      },
      "execution_count": 4,
      "outputs": [
        {
          "output_type": "stream",
          "name": "stdout",
          "text": [
            "<class 'pandas.core.frame.DataFrame'>\n",
            "RangeIndex: 200 entries, 0 to 199\n",
            "Data columns (total 2 columns):\n",
            " #   Column  Non-Null Count  Dtype \n",
            "---  ------  --------------  ----- \n",
            " 0   bp      200 non-null    int64 \n",
            " 1   type    200 non-null    object\n",
            "dtypes: int64(1), object(1)\n",
            "memory usage: 3.2+ KB\n"
          ]
        }
      ]
    },
    {
      "cell_type": "code",
      "source": [
        "bp_dataset.isnull().sum()"
      ],
      "metadata": {
        "colab": {
          "base_uri": "https://localhost:8080/"
        },
        "id": "U6E2wpY2V3Zx",
        "outputId": "acd8d229-c251-42ca-f8d7-899c73cd894e"
      },
      "execution_count": 5,
      "outputs": [
        {
          "output_type": "execute_result",
          "data": {
            "text/plain": [
              "bp      0\n",
              "type    0\n",
              "dtype: int64"
            ]
          },
          "metadata": {},
          "execution_count": 5
        }
      ]
    },
    {
      "cell_type": "code",
      "source": [
        "bp_dataset.corr()"
      ],
      "metadata": {
        "colab": {
          "base_uri": "https://localhost:8080/",
          "height": 81
        },
        "id": "RhQ9KNZ0V70X",
        "outputId": "c861cc33-bc17-4774-a4e0-7fea7233f0fa"
      },
      "execution_count": 6,
      "outputs": [
        {
          "output_type": "execute_result",
          "data": {
            "text/plain": [
              "     bp\n",
              "bp  1.0"
            ],
            "text/html": [
              "\n",
              "  <div id=\"df-24e6dd5d-ba04-4ea3-9356-11583bc2ad50\">\n",
              "    <div class=\"colab-df-container\">\n",
              "      <div>\n",
              "<style scoped>\n",
              "    .dataframe tbody tr th:only-of-type {\n",
              "        vertical-align: middle;\n",
              "    }\n",
              "\n",
              "    .dataframe tbody tr th {\n",
              "        vertical-align: top;\n",
              "    }\n",
              "\n",
              "    .dataframe thead th {\n",
              "        text-align: right;\n",
              "    }\n",
              "</style>\n",
              "<table border=\"1\" class=\"dataframe\">\n",
              "  <thead>\n",
              "    <tr style=\"text-align: right;\">\n",
              "      <th></th>\n",
              "      <th>bp</th>\n",
              "    </tr>\n",
              "  </thead>\n",
              "  <tbody>\n",
              "    <tr>\n",
              "      <th>bp</th>\n",
              "      <td>1.0</td>\n",
              "    </tr>\n",
              "  </tbody>\n",
              "</table>\n",
              "</div>\n",
              "      <button class=\"colab-df-convert\" onclick=\"convertToInteractive('df-24e6dd5d-ba04-4ea3-9356-11583bc2ad50')\"\n",
              "              title=\"Convert this dataframe to an interactive table.\"\n",
              "              style=\"display:none;\">\n",
              "        \n",
              "  <svg xmlns=\"http://www.w3.org/2000/svg\" height=\"24px\"viewBox=\"0 0 24 24\"\n",
              "       width=\"24px\">\n",
              "    <path d=\"M0 0h24v24H0V0z\" fill=\"none\"/>\n",
              "    <path d=\"M18.56 5.44l.94 2.06.94-2.06 2.06-.94-2.06-.94-.94-2.06-.94 2.06-2.06.94zm-11 1L8.5 8.5l.94-2.06 2.06-.94-2.06-.94L8.5 2.5l-.94 2.06-2.06.94zm10 10l.94 2.06.94-2.06 2.06-.94-2.06-.94-.94-2.06-.94 2.06-2.06.94z\"/><path d=\"M17.41 7.96l-1.37-1.37c-.4-.4-.92-.59-1.43-.59-.52 0-1.04.2-1.43.59L10.3 9.45l-7.72 7.72c-.78.78-.78 2.05 0 2.83L4 21.41c.39.39.9.59 1.41.59.51 0 1.02-.2 1.41-.59l7.78-7.78 2.81-2.81c.8-.78.8-2.07 0-2.86zM5.41 20L4 18.59l7.72-7.72 1.47 1.35L5.41 20z\"/>\n",
              "  </svg>\n",
              "      </button>\n",
              "      \n",
              "  <style>\n",
              "    .colab-df-container {\n",
              "      display:flex;\n",
              "      flex-wrap:wrap;\n",
              "      gap: 12px;\n",
              "    }\n",
              "\n",
              "    .colab-df-convert {\n",
              "      background-color: #E8F0FE;\n",
              "      border: none;\n",
              "      border-radius: 50%;\n",
              "      cursor: pointer;\n",
              "      display: none;\n",
              "      fill: #1967D2;\n",
              "      height: 32px;\n",
              "      padding: 0 0 0 0;\n",
              "      width: 32px;\n",
              "    }\n",
              "\n",
              "    .colab-df-convert:hover {\n",
              "      background-color: #E2EBFA;\n",
              "      box-shadow: 0px 1px 2px rgba(60, 64, 67, 0.3), 0px 1px 3px 1px rgba(60, 64, 67, 0.15);\n",
              "      fill: #174EA6;\n",
              "    }\n",
              "\n",
              "    [theme=dark] .colab-df-convert {\n",
              "      background-color: #3B4455;\n",
              "      fill: #D2E3FC;\n",
              "    }\n",
              "\n",
              "    [theme=dark] .colab-df-convert:hover {\n",
              "      background-color: #434B5C;\n",
              "      box-shadow: 0px 1px 3px 1px rgba(0, 0, 0, 0.15);\n",
              "      filter: drop-shadow(0px 1px 2px rgba(0, 0, 0, 0.3));\n",
              "      fill: #FFFFFF;\n",
              "    }\n",
              "  </style>\n",
              "\n",
              "      <script>\n",
              "        const buttonEl =\n",
              "          document.querySelector('#df-24e6dd5d-ba04-4ea3-9356-11583bc2ad50 button.colab-df-convert');\n",
              "        buttonEl.style.display =\n",
              "          google.colab.kernel.accessAllowed ? 'block' : 'none';\n",
              "\n",
              "        async function convertToInteractive(key) {\n",
              "          const element = document.querySelector('#df-24e6dd5d-ba04-4ea3-9356-11583bc2ad50');\n",
              "          const dataTable =\n",
              "            await google.colab.kernel.invokeFunction('convertToInteractive',\n",
              "                                                     [key], {});\n",
              "          if (!dataTable) return;\n",
              "\n",
              "          const docLinkHtml = 'Like what you see? Visit the ' +\n",
              "            '<a target=\"_blank\" href=https://colab.research.google.com/notebooks/data_table.ipynb>data table notebook</a>'\n",
              "            + ' to learn more about interactive tables.';\n",
              "          element.innerHTML = '';\n",
              "          dataTable['output_type'] = 'display_data';\n",
              "          await google.colab.output.renderOutput(dataTable, element);\n",
              "          const docLink = document.createElement('div');\n",
              "          docLink.innerHTML = docLinkHtml;\n",
              "          element.appendChild(docLink);\n",
              "        }\n",
              "      </script>\n",
              "    </div>\n",
              "  </div>\n",
              "  "
            ]
          },
          "metadata": {},
          "execution_count": 6
        }
      ]
    },
    {
      "cell_type": "code",
      "source": [
        "print(\"Quantidade de pessoas com ou sem diabetes:\\n\", bp_dataset[\"type\"].value_counts())"
      ],
      "metadata": {
        "colab": {
          "base_uri": "https://localhost:8080/"
        },
        "id": "4wAN7axUEtTA",
        "outputId": "c434c90d-50e9-4924-be19-2c745e960481"
      },
      "execution_count": 19,
      "outputs": [
        {
          "output_type": "stream",
          "name": "stdout",
          "text": [
            "Quantidade de pessoas com ou sem diabetes:\n",
            " No     132\n",
            "Yes     68\n",
            "Name: type, dtype: int64\n"
          ]
        }
      ]
    },
    {
      "cell_type": "markdown",
      "source": [
        "## Conjunto de dados paired.csv"
      ],
      "metadata": {
        "id": "o4zgV8Q7W_Zr"
      }
    },
    {
      "cell_type": "code",
      "source": [
        "paired_dataset = pd.read_csv('paired.csv')\n",
        "print(type(paired_dataset))\n",
        "paired_dataset"
      ],
      "metadata": {
        "colab": {
          "base_uri": "https://localhost:8080/",
          "height": 474
        },
        "id": "vYLv0ThUVqJk",
        "outputId": "540f892d-f145-4f97-acc0-b012cd409c5c"
      },
      "execution_count": 15,
      "outputs": [
        {
          "output_type": "stream",
          "name": "stdout",
          "text": [
            "<class 'pandas.core.frame.DataFrame'>\n"
          ]
        },
        {
          "output_type": "execute_result",
          "data": {
            "text/plain": [
              "             Clone  August  November\n",
              "0     Balsam_Spire     8.1      11.2\n",
              "1          Beaupre    10.0      16.3\n",
              "2        Hazendans    16.5      15.3\n",
              "3        Hoogvorst    13.6      15.6\n",
              "4         Raspalje     9.5      10.5\n",
              "5             Unal     8.3      15.5\n",
              "6   Columbia_River    18.3      12.7\n",
              "7    Fritzi_Pauley    13.3      11.1\n",
              "8        Trichobel     7.9      19.9\n",
              "9            Gaver     8.1      20.4\n",
              "10          Gibecq     8.9      14.2\n",
              "11           Primo    12.6      12.7\n",
              "12       Wolterson    13.4      36.8"
            ],
            "text/html": [
              "\n",
              "  <div id=\"df-38a36a6d-13ba-4b9f-ab77-f2c66ab878ce\">\n",
              "    <div class=\"colab-df-container\">\n",
              "      <div>\n",
              "<style scoped>\n",
              "    .dataframe tbody tr th:only-of-type {\n",
              "        vertical-align: middle;\n",
              "    }\n",
              "\n",
              "    .dataframe tbody tr th {\n",
              "        vertical-align: top;\n",
              "    }\n",
              "\n",
              "    .dataframe thead th {\n",
              "        text-align: right;\n",
              "    }\n",
              "</style>\n",
              "<table border=\"1\" class=\"dataframe\">\n",
              "  <thead>\n",
              "    <tr style=\"text-align: right;\">\n",
              "      <th></th>\n",
              "      <th>Clone</th>\n",
              "      <th>August</th>\n",
              "      <th>November</th>\n",
              "    </tr>\n",
              "  </thead>\n",
              "  <tbody>\n",
              "    <tr>\n",
              "      <th>0</th>\n",
              "      <td>Balsam_Spire</td>\n",
              "      <td>8.1</td>\n",
              "      <td>11.2</td>\n",
              "    </tr>\n",
              "    <tr>\n",
              "      <th>1</th>\n",
              "      <td>Beaupre</td>\n",
              "      <td>10.0</td>\n",
              "      <td>16.3</td>\n",
              "    </tr>\n",
              "    <tr>\n",
              "      <th>2</th>\n",
              "      <td>Hazendans</td>\n",
              "      <td>16.5</td>\n",
              "      <td>15.3</td>\n",
              "    </tr>\n",
              "    <tr>\n",
              "      <th>3</th>\n",
              "      <td>Hoogvorst</td>\n",
              "      <td>13.6</td>\n",
              "      <td>15.6</td>\n",
              "    </tr>\n",
              "    <tr>\n",
              "      <th>4</th>\n",
              "      <td>Raspalje</td>\n",
              "      <td>9.5</td>\n",
              "      <td>10.5</td>\n",
              "    </tr>\n",
              "    <tr>\n",
              "      <th>5</th>\n",
              "      <td>Unal</td>\n",
              "      <td>8.3</td>\n",
              "      <td>15.5</td>\n",
              "    </tr>\n",
              "    <tr>\n",
              "      <th>6</th>\n",
              "      <td>Columbia_River</td>\n",
              "      <td>18.3</td>\n",
              "      <td>12.7</td>\n",
              "    </tr>\n",
              "    <tr>\n",
              "      <th>7</th>\n",
              "      <td>Fritzi_Pauley</td>\n",
              "      <td>13.3</td>\n",
              "      <td>11.1</td>\n",
              "    </tr>\n",
              "    <tr>\n",
              "      <th>8</th>\n",
              "      <td>Trichobel</td>\n",
              "      <td>7.9</td>\n",
              "      <td>19.9</td>\n",
              "    </tr>\n",
              "    <tr>\n",
              "      <th>9</th>\n",
              "      <td>Gaver</td>\n",
              "      <td>8.1</td>\n",
              "      <td>20.4</td>\n",
              "    </tr>\n",
              "    <tr>\n",
              "      <th>10</th>\n",
              "      <td>Gibecq</td>\n",
              "      <td>8.9</td>\n",
              "      <td>14.2</td>\n",
              "    </tr>\n",
              "    <tr>\n",
              "      <th>11</th>\n",
              "      <td>Primo</td>\n",
              "      <td>12.6</td>\n",
              "      <td>12.7</td>\n",
              "    </tr>\n",
              "    <tr>\n",
              "      <th>12</th>\n",
              "      <td>Wolterson</td>\n",
              "      <td>13.4</td>\n",
              "      <td>36.8</td>\n",
              "    </tr>\n",
              "  </tbody>\n",
              "</table>\n",
              "</div>\n",
              "      <button class=\"colab-df-convert\" onclick=\"convertToInteractive('df-38a36a6d-13ba-4b9f-ab77-f2c66ab878ce')\"\n",
              "              title=\"Convert this dataframe to an interactive table.\"\n",
              "              style=\"display:none;\">\n",
              "        \n",
              "  <svg xmlns=\"http://www.w3.org/2000/svg\" height=\"24px\"viewBox=\"0 0 24 24\"\n",
              "       width=\"24px\">\n",
              "    <path d=\"M0 0h24v24H0V0z\" fill=\"none\"/>\n",
              "    <path d=\"M18.56 5.44l.94 2.06.94-2.06 2.06-.94-2.06-.94-.94-2.06-.94 2.06-2.06.94zm-11 1L8.5 8.5l.94-2.06 2.06-.94-2.06-.94L8.5 2.5l-.94 2.06-2.06.94zm10 10l.94 2.06.94-2.06 2.06-.94-2.06-.94-.94-2.06-.94 2.06-2.06.94z\"/><path d=\"M17.41 7.96l-1.37-1.37c-.4-.4-.92-.59-1.43-.59-.52 0-1.04.2-1.43.59L10.3 9.45l-7.72 7.72c-.78.78-.78 2.05 0 2.83L4 21.41c.39.39.9.59 1.41.59.51 0 1.02-.2 1.41-.59l7.78-7.78 2.81-2.81c.8-.78.8-2.07 0-2.86zM5.41 20L4 18.59l7.72-7.72 1.47 1.35L5.41 20z\"/>\n",
              "  </svg>\n",
              "      </button>\n",
              "      \n",
              "  <style>\n",
              "    .colab-df-container {\n",
              "      display:flex;\n",
              "      flex-wrap:wrap;\n",
              "      gap: 12px;\n",
              "    }\n",
              "\n",
              "    .colab-df-convert {\n",
              "      background-color: #E8F0FE;\n",
              "      border: none;\n",
              "      border-radius: 50%;\n",
              "      cursor: pointer;\n",
              "      display: none;\n",
              "      fill: #1967D2;\n",
              "      height: 32px;\n",
              "      padding: 0 0 0 0;\n",
              "      width: 32px;\n",
              "    }\n",
              "\n",
              "    .colab-df-convert:hover {\n",
              "      background-color: #E2EBFA;\n",
              "      box-shadow: 0px 1px 2px rgba(60, 64, 67, 0.3), 0px 1px 3px 1px rgba(60, 64, 67, 0.15);\n",
              "      fill: #174EA6;\n",
              "    }\n",
              "\n",
              "    [theme=dark] .colab-df-convert {\n",
              "      background-color: #3B4455;\n",
              "      fill: #D2E3FC;\n",
              "    }\n",
              "\n",
              "    [theme=dark] .colab-df-convert:hover {\n",
              "      background-color: #434B5C;\n",
              "      box-shadow: 0px 1px 3px 1px rgba(0, 0, 0, 0.15);\n",
              "      filter: drop-shadow(0px 1px 2px rgba(0, 0, 0, 0.3));\n",
              "      fill: #FFFFFF;\n",
              "    }\n",
              "  </style>\n",
              "\n",
              "      <script>\n",
              "        const buttonEl =\n",
              "          document.querySelector('#df-38a36a6d-13ba-4b9f-ab77-f2c66ab878ce button.colab-df-convert');\n",
              "        buttonEl.style.display =\n",
              "          google.colab.kernel.accessAllowed ? 'block' : 'none';\n",
              "\n",
              "        async function convertToInteractive(key) {\n",
              "          const element = document.querySelector('#df-38a36a6d-13ba-4b9f-ab77-f2c66ab878ce');\n",
              "          const dataTable =\n",
              "            await google.colab.kernel.invokeFunction('convertToInteractive',\n",
              "                                                     [key], {});\n",
              "          if (!dataTable) return;\n",
              "\n",
              "          const docLinkHtml = 'Like what you see? Visit the ' +\n",
              "            '<a target=\"_blank\" href=https://colab.research.google.com/notebooks/data_table.ipynb>data table notebook</a>'\n",
              "            + ' to learn more about interactive tables.';\n",
              "          element.innerHTML = '';\n",
              "          dataTable['output_type'] = 'display_data';\n",
              "          await google.colab.output.renderOutput(dataTable, element);\n",
              "          const docLink = document.createElement('div');\n",
              "          docLink.innerHTML = docLinkHtml;\n",
              "          element.appendChild(docLink);\n",
              "        }\n",
              "      </script>\n",
              "    </div>\n",
              "  </div>\n",
              "  "
            ]
          },
          "metadata": {},
          "execution_count": 15
        }
      ]
    },
    {
      "cell_type": "code",
      "source": [
        "paired_dataset.info()"
      ],
      "metadata": {
        "colab": {
          "base_uri": "https://localhost:8080/"
        },
        "id": "fj-kIel8WEWw",
        "outputId": "2e3facfa-5c05-4142-cc06-351c635b77ae"
      },
      "execution_count": 16,
      "outputs": [
        {
          "output_type": "stream",
          "name": "stdout",
          "text": [
            "<class 'pandas.core.frame.DataFrame'>\n",
            "RangeIndex: 13 entries, 0 to 12\n",
            "Data columns (total 3 columns):\n",
            " #   Column    Non-Null Count  Dtype  \n",
            "---  ------    --------------  -----  \n",
            " 0   Clone     13 non-null     object \n",
            " 1   August    13 non-null     float64\n",
            " 2   November  13 non-null     float64\n",
            "dtypes: float64(2), object(1)\n",
            "memory usage: 440.0+ bytes\n"
          ]
        }
      ]
    },
    {
      "cell_type": "code",
      "source": [
        "paired_dataset.isnull().sum()"
      ],
      "metadata": {
        "colab": {
          "base_uri": "https://localhost:8080/"
        },
        "id": "U5IMKHi1VvnQ",
        "outputId": "7bb3225c-182b-4ad0-8ffa-b00e287fdee4"
      },
      "execution_count": 17,
      "outputs": [
        {
          "output_type": "execute_result",
          "data": {
            "text/plain": [
              "Clone       0\n",
              "August      0\n",
              "November    0\n",
              "dtype: int64"
            ]
          },
          "metadata": {},
          "execution_count": 17
        }
      ]
    },
    {
      "cell_type": "code",
      "source": [
        "paired_dataset.corr()"
      ],
      "metadata": {
        "colab": {
          "base_uri": "https://localhost:8080/",
          "height": 112
        },
        "id": "aKDpZGQgWKsN",
        "outputId": "2b41e98c-2906-465e-c705-ff8a07b29880"
      },
      "execution_count": 18,
      "outputs": [
        {
          "output_type": "execute_result",
          "data": {
            "text/plain": [
              "            August  November\n",
              "August    1.000000  0.016698\n",
              "November  0.016698  1.000000"
            ],
            "text/html": [
              "\n",
              "  <div id=\"df-59f813a3-e3c1-4e35-afae-1b49f72851e6\">\n",
              "    <div class=\"colab-df-container\">\n",
              "      <div>\n",
              "<style scoped>\n",
              "    .dataframe tbody tr th:only-of-type {\n",
              "        vertical-align: middle;\n",
              "    }\n",
              "\n",
              "    .dataframe tbody tr th {\n",
              "        vertical-align: top;\n",
              "    }\n",
              "\n",
              "    .dataframe thead th {\n",
              "        text-align: right;\n",
              "    }\n",
              "</style>\n",
              "<table border=\"1\" class=\"dataframe\">\n",
              "  <thead>\n",
              "    <tr style=\"text-align: right;\">\n",
              "      <th></th>\n",
              "      <th>August</th>\n",
              "      <th>November</th>\n",
              "    </tr>\n",
              "  </thead>\n",
              "  <tbody>\n",
              "    <tr>\n",
              "      <th>August</th>\n",
              "      <td>1.000000</td>\n",
              "      <td>0.016698</td>\n",
              "    </tr>\n",
              "    <tr>\n",
              "      <th>November</th>\n",
              "      <td>0.016698</td>\n",
              "      <td>1.000000</td>\n",
              "    </tr>\n",
              "  </tbody>\n",
              "</table>\n",
              "</div>\n",
              "      <button class=\"colab-df-convert\" onclick=\"convertToInteractive('df-59f813a3-e3c1-4e35-afae-1b49f72851e6')\"\n",
              "              title=\"Convert this dataframe to an interactive table.\"\n",
              "              style=\"display:none;\">\n",
              "        \n",
              "  <svg xmlns=\"http://www.w3.org/2000/svg\" height=\"24px\"viewBox=\"0 0 24 24\"\n",
              "       width=\"24px\">\n",
              "    <path d=\"M0 0h24v24H0V0z\" fill=\"none\"/>\n",
              "    <path d=\"M18.56 5.44l.94 2.06.94-2.06 2.06-.94-2.06-.94-.94-2.06-.94 2.06-2.06.94zm-11 1L8.5 8.5l.94-2.06 2.06-.94-2.06-.94L8.5 2.5l-.94 2.06-2.06.94zm10 10l.94 2.06.94-2.06 2.06-.94-2.06-.94-.94-2.06-.94 2.06-2.06.94z\"/><path d=\"M17.41 7.96l-1.37-1.37c-.4-.4-.92-.59-1.43-.59-.52 0-1.04.2-1.43.59L10.3 9.45l-7.72 7.72c-.78.78-.78 2.05 0 2.83L4 21.41c.39.39.9.59 1.41.59.51 0 1.02-.2 1.41-.59l7.78-7.78 2.81-2.81c.8-.78.8-2.07 0-2.86zM5.41 20L4 18.59l7.72-7.72 1.47 1.35L5.41 20z\"/>\n",
              "  </svg>\n",
              "      </button>\n",
              "      \n",
              "  <style>\n",
              "    .colab-df-container {\n",
              "      display:flex;\n",
              "      flex-wrap:wrap;\n",
              "      gap: 12px;\n",
              "    }\n",
              "\n",
              "    .colab-df-convert {\n",
              "      background-color: #E8F0FE;\n",
              "      border: none;\n",
              "      border-radius: 50%;\n",
              "      cursor: pointer;\n",
              "      display: none;\n",
              "      fill: #1967D2;\n",
              "      height: 32px;\n",
              "      padding: 0 0 0 0;\n",
              "      width: 32px;\n",
              "    }\n",
              "\n",
              "    .colab-df-convert:hover {\n",
              "      background-color: #E2EBFA;\n",
              "      box-shadow: 0px 1px 2px rgba(60, 64, 67, 0.3), 0px 1px 3px 1px rgba(60, 64, 67, 0.15);\n",
              "      fill: #174EA6;\n",
              "    }\n",
              "\n",
              "    [theme=dark] .colab-df-convert {\n",
              "      background-color: #3B4455;\n",
              "      fill: #D2E3FC;\n",
              "    }\n",
              "\n",
              "    [theme=dark] .colab-df-convert:hover {\n",
              "      background-color: #434B5C;\n",
              "      box-shadow: 0px 1px 3px 1px rgba(0, 0, 0, 0.15);\n",
              "      filter: drop-shadow(0px 1px 2px rgba(0, 0, 0, 0.3));\n",
              "      fill: #FFFFFF;\n",
              "    }\n",
              "  </style>\n",
              "\n",
              "      <script>\n",
              "        const buttonEl =\n",
              "          document.querySelector('#df-59f813a3-e3c1-4e35-afae-1b49f72851e6 button.colab-df-convert');\n",
              "        buttonEl.style.display =\n",
              "          google.colab.kernel.accessAllowed ? 'block' : 'none';\n",
              "\n",
              "        async function convertToInteractive(key) {\n",
              "          const element = document.querySelector('#df-59f813a3-e3c1-4e35-afae-1b49f72851e6');\n",
              "          const dataTable =\n",
              "            await google.colab.kernel.invokeFunction('convertToInteractive',\n",
              "                                                     [key], {});\n",
              "          if (!dataTable) return;\n",
              "\n",
              "          const docLinkHtml = 'Like what you see? Visit the ' +\n",
              "            '<a target=\"_blank\" href=https://colab.research.google.com/notebooks/data_table.ipynb>data table notebook</a>'\n",
              "            + ' to learn more about interactive tables.';\n",
              "          element.innerHTML = '';\n",
              "          dataTable['output_type'] = 'display_data';\n",
              "          await google.colab.output.renderOutput(dataTable, element);\n",
              "          const docLink = document.createElement('div');\n",
              "          docLink.innerHTML = docLinkHtml;\n",
              "          element.appendChild(docLink);\n",
              "        }\n",
              "      </script>\n",
              "    </div>\n",
              "  </div>\n",
              "  "
            ]
          },
          "metadata": {},
          "execution_count": 18
        }
      ]
    },
    {
      "cell_type": "markdown",
      "source": [
        "# Pergunta 1 \n",
        "O arquivo bp.csv contem dados sobre a pressão sanguínea (bp) e se a pessoa é ou não diabética (type) (diabetico é type = Yes).\n",
        "\n",
        "Use os seguintes testes e responda os itens abaixo:\n",
        "\n",
        "- Teste t\n",
        "\n",
        "- Wilcoxon rank sum\n",
        "\n",
        "1. Reporte o p-valor da comparação entre a pressão sangüínea de pessoas diabéticas ou não.\n",
        "\n",
        "2. Qual tem a maior pressão média? E maior pressão mediana?\n",
        "\n",
        "3. A diferença é significativa?\n",
        "\n",
        "Discuta a diferença dos p-valores. Quais dos 2 testes você acha mais apropriado nesse caso?"
      ],
      "metadata": {
        "id": "edRDSTAgWQs6"
      }
    },
    {
      "cell_type": "markdown",
      "source": [
        "## Teste t"
      ],
      "metadata": {
        "id": "TQjUIq29XQCU"
      }
    },
    {
      "cell_type": "code",
      "source": [
        "bp_dataset_yes = bp_dataset.loc[bp_dataset[\"type\"]==\"Yes\"][\"bp\"]\n",
        "bp_dataset_no = bp_dataset.loc[bp_dataset[\"type\"]==\"No\"][\"bp\"]"
      ],
      "metadata": {
        "id": "AcNz6lvlHPCu"
      },
      "execution_count": 27,
      "outputs": []
    },
    {
      "cell_type": "code",
      "source": [
        "stats.ttest_ind(bp_dataset_yes, bp_dataset_no)"
      ],
      "metadata": {
        "id": "JVLQN80iWZFk",
        "colab": {
          "base_uri": "https://localhost:8080/"
        },
        "outputId": "31b0e87e-d012-4ea7-aef6-76d44d923aa6"
      },
      "execution_count": 28,
      "outputs": [
        {
          "output_type": "execute_result",
          "data": {
            "text/plain": [
              "Ttest_indResult(statistic=3.001495202122035, pvalue=0.0030323591864622732)"
            ]
          },
          "metadata": {},
          "execution_count": 28
        }
      ]
    },
    {
      "cell_type": "markdown",
      "source": [
        "## Wilcoxon rank sum"
      ],
      "metadata": {
        "id": "MqOHlAVlXTpl"
      }
    },
    {
      "cell_type": "code",
      "source": [
        "stats.ranksums(bp_dataset_yes, bp_dataset_no)"
      ],
      "metadata": {
        "id": "qR-Ye2x1XXFX",
        "colab": {
          "base_uri": "https://localhost:8080/"
        },
        "outputId": "95fa8087-dfa1-4090-f255-736f834771f1"
      },
      "execution_count": 30,
      "outputs": [
        {
          "output_type": "execute_result",
          "data": {
            "text/plain": [
              "RanksumsResult(statistic=3.045797809294312, pvalue=0.0023206383267846886)"
            ]
          },
          "metadata": {},
          "execution_count": 30
        }
      ]
    },
    {
      "cell_type": "markdown",
      "source": [
        "## Pressão média"
      ],
      "metadata": {
        "id": "CH1EPmOFKVKq"
      }
    },
    {
      "cell_type": "code",
      "source": [
        "bp_dataset_yes.mean()"
      ],
      "metadata": {
        "colab": {
          "base_uri": "https://localhost:8080/"
        },
        "id": "rZbHa2aRKbL4",
        "outputId": "12a51c8f-ebb4-4e87-9d71-820785e260ef"
      },
      "execution_count": 31,
      "outputs": [
        {
          "output_type": "execute_result",
          "data": {
            "text/plain": [
              "74.58823529411765"
            ]
          },
          "metadata": {},
          "execution_count": 31
        }
      ]
    },
    {
      "cell_type": "code",
      "source": [
        "bp_dataset_no.mean()"
      ],
      "metadata": {
        "colab": {
          "base_uri": "https://localhost:8080/"
        },
        "id": "efAD4XrUKiUg",
        "outputId": "0b0756d9-6faf-4336-fec6-78088a869152"
      },
      "execution_count": 32,
      "outputs": [
        {
          "output_type": "execute_result",
          "data": {
            "text/plain": [
              "69.54545454545455"
            ]
          },
          "metadata": {},
          "execution_count": 32
        }
      ]
    },
    {
      "cell_type": "markdown",
      "source": [
        "## Pressão mediana"
      ],
      "metadata": {
        "id": "z4qX68ZzKb0o"
      }
    },
    {
      "cell_type": "code",
      "source": [
        "bp_dataset_yes.median()"
      ],
      "metadata": {
        "colab": {
          "base_uri": "https://localhost:8080/"
        },
        "id": "kJezINtCKdqM",
        "outputId": "411ebff5-8b6c-4279-e0d7-2a82a39539cb"
      },
      "execution_count": 33,
      "outputs": [
        {
          "output_type": "execute_result",
          "data": {
            "text/plain": [
              "76.0"
            ]
          },
          "metadata": {},
          "execution_count": 33
        }
      ]
    },
    {
      "cell_type": "code",
      "source": [
        "bp_dataset_no.median()"
      ],
      "metadata": {
        "colab": {
          "base_uri": "https://localhost:8080/"
        },
        "id": "DkIWg8lNKnmv",
        "outputId": "63b9847c-6587-46b6-8705-6889d287da57"
      },
      "execution_count": 34,
      "outputs": [
        {
          "output_type": "execute_result",
          "data": {
            "text/plain": [
              "70.0"
            ]
          },
          "metadata": {},
          "execution_count": 34
        }
      ]
    },
    {
      "cell_type": "markdown",
      "source": [
        "## Respostas"
      ],
      "metadata": {
        "id": "h8fxhdGkXYmT"
      }
    },
    {
      "cell_type": "markdown",
      "source": [
        "1) O p-valor da comparação entre a pressão sangüínea de pessoas diabéticas ou não são:\n",
        "\n",
        "\n",
        "*   Teste t: 0.0030323591864622732\n",
        "*   Wilcoxon rank sum: 0.0023206383267846886\n",
        "\n",
        "\n",
        "\n",
        "2) O grupo de pessoas diabéticas possuem tanto a maior pressão média quando a maior pressão mediana.\n",
        "\n",
        "3) Sim, a diferença é significativa visto que o p-valores obtido em ambos os testes são pequenos, garantindo a confiança nos resultados sobre a diferença das pressões médias e medianas dos dois grupos: diabéticos e não diabéticos. \n",
        "\n",
        "Com base nos resultados obtidos acima, os p-valores obtidos diferiram cerca de 0.00073. Porém, como visto em aula, o Test t seria o mais apropriado para esse caso, visto que o Test t é recomendado para dois conjuntos independentes e o Wilcoxon rank sum testa se dois conjuntos de são extraídos da mesma distribuição. "
      ],
      "metadata": {
        "id": "MT_Qsh3sXay6"
      }
    },
    {
      "cell_type": "markdown",
      "source": [
        "# Pergunta 2\n",
        "O arquivo paired.csv contém dados sobre duas medições: em Agosto e em Novembro em 13 lugares diferentes.\n",
        "\n",
        "Use os seguintes testes e responda os itens abaixo:\n",
        "- Test t pareado\n",
        "\n",
        "- Wilcoxon signed rank.\n",
        "\n",
        "1. Qual o mês com maior média e maior mediana?\n",
        "\n",
        "2. A diferença é significativa?\n",
        "\n",
        "3. Discuta a diferença dos p-valores. Quais dos 2 testes você acha mais apropriado nesse caso?"
      ],
      "metadata": {
        "id": "dSH7wiZ3Wip8"
      }
    },
    {
      "cell_type": "markdown",
      "source": [
        "## Teste t pareado"
      ],
      "metadata": {
        "id": "vXZ2FrNjXlBv"
      }
    },
    {
      "cell_type": "code",
      "source": [
        "stats.ttest_rel(paired_dataset[\"August\"], paired_dataset[\"November\"])"
      ],
      "metadata": {
        "colab": {
          "base_uri": "https://localhost:8080/"
        },
        "id": "kHKwiOtuPAm1",
        "outputId": "5f1588d8-8434-425d-e411-8a599c2a74f4"
      },
      "execution_count": 45,
      "outputs": [
        {
          "output_type": "execute_result",
          "data": {
            "text/plain": [
              "Ttest_relResult(statistic=-2.3088956550760438, pvalue=0.03955525086687241)"
            ]
          },
          "metadata": {},
          "execution_count": 45
        }
      ]
    },
    {
      "cell_type": "markdown",
      "source": [
        "## Wilcoxon signed rank"
      ],
      "metadata": {
        "id": "-m9H4Wz4XoBQ"
      }
    },
    {
      "cell_type": "code",
      "source": [
        "stats.wilcoxon(paired_dataset[\"August\"], paired_dataset[\"November\"])"
      ],
      "metadata": {
        "id": "OBDd9-rlXqsG",
        "colab": {
          "base_uri": "https://localhost:8080/"
        },
        "outputId": "3fc02acb-bf9e-4d50-bd3c-14f104c8efef"
      },
      "execution_count": 46,
      "outputs": [
        {
          "output_type": "execute_result",
          "data": {
            "text/plain": [
              "WilcoxonResult(statistic=16.0, pvalue=0.039794921875)"
            ]
          },
          "metadata": {},
          "execution_count": 46
        }
      ]
    },
    {
      "cell_type": "code",
      "source": [
        "0.039794921875-0.03955525086687241"
      ],
      "metadata": {
        "colab": {
          "base_uri": "https://localhost:8080/"
        },
        "id": "jiu5QLL5RgkG",
        "outputId": "92205fd9-a8a9-47e8-91ad-81a1984e09f7"
      },
      "execution_count": 51,
      "outputs": [
        {
          "output_type": "execute_result",
          "data": {
            "text/plain": [
              "0.00023967100812759268"
            ]
          },
          "metadata": {},
          "execution_count": 51
        }
      ]
    },
    {
      "cell_type": "markdown",
      "source": [
        "## Média - mês"
      ],
      "metadata": {
        "id": "atwfca-QQe3M"
      }
    },
    {
      "cell_type": "code",
      "source": [
        "paired_dataset[\"August\"].mean()"
      ],
      "metadata": {
        "colab": {
          "base_uri": "https://localhost:8080/"
        },
        "outputId": "285df22a-5782-414d-e129-d72a38d22c93",
        "id": "VOHzQ0AjQe3M"
      },
      "execution_count": 47,
      "outputs": [
        {
          "output_type": "execute_result",
          "data": {
            "text/plain": [
              "11.423076923076925"
            ]
          },
          "metadata": {},
          "execution_count": 47
        }
      ]
    },
    {
      "cell_type": "code",
      "source": [
        "paired_dataset[\"November\"].mean()"
      ],
      "metadata": {
        "colab": {
          "base_uri": "https://localhost:8080/"
        },
        "outputId": "aa0d89c7-8cf6-46c7-9891-b7d0299d7ffa",
        "id": "LBPicjfYQe3N"
      },
      "execution_count": 49,
      "outputs": [
        {
          "output_type": "execute_result",
          "data": {
            "text/plain": [
              "16.323076923076922"
            ]
          },
          "metadata": {},
          "execution_count": 49
        }
      ]
    },
    {
      "cell_type": "markdown",
      "source": [
        "## Mediana - Mês"
      ],
      "metadata": {
        "id": "zJOwCf0vQe3N"
      }
    },
    {
      "cell_type": "code",
      "source": [
        "paired_dataset[\"August\"].median()"
      ],
      "metadata": {
        "colab": {
          "base_uri": "https://localhost:8080/"
        },
        "outputId": "9cc0509f-8ddc-463a-e66b-928c9f309837",
        "id": "3jVXImlpQe3N"
      },
      "execution_count": 48,
      "outputs": [
        {
          "output_type": "execute_result",
          "data": {
            "text/plain": [
              "10.0"
            ]
          },
          "metadata": {},
          "execution_count": 48
        }
      ]
    },
    {
      "cell_type": "code",
      "source": [
        "paired_dataset[\"November\"].median()"
      ],
      "metadata": {
        "colab": {
          "base_uri": "https://localhost:8080/"
        },
        "outputId": "4795c00e-c4be-498b-ce61-b4a6c2467ca1",
        "id": "4beYhELiQe3N"
      },
      "execution_count": 50,
      "outputs": [
        {
          "output_type": "execute_result",
          "data": {
            "text/plain": [
              "15.3"
            ]
          },
          "metadata": {},
          "execution_count": 50
        }
      ]
    },
    {
      "cell_type": "markdown",
      "source": [
        "## Respostas"
      ],
      "metadata": {
        "id": "NIAjwIO_XrxA"
      }
    },
    {
      "cell_type": "markdown",
      "source": [
        "1) O mês com maior média e maior mediana é novembro.\n",
        "\n",
        "2) Sim, a diferença é significativa visto que o p-valores obtido em ambos os testes são pequenos, garantindo a confiança nos resultados da diferença das médias e medianas dos dois meses: agosto e novembro.\n",
        "\n",
        "3) A diferença dos p-valores foi cerca de 0.000239. Como visto em aula, nesse caso o Wilcoxon signed rank seria o mais apropriado, visto que o conjunto de dados não é grande (medidas de 13 lugares diferentes para 2 diferentes meses)."
      ],
      "metadata": {
        "id": "bFLN-mWgXt-N"
      }
    },
    {
      "cell_type": "markdown",
      "source": [
        "# Pergunta 3\n",
        "Use os dados (não pareados) do dataset bp.csv\n",
        "\n",
        "Gere o intervalo de confiança para a pressão sangüínea dos pacientes com diabetes e sem diabetes (intervalo de 95% de confiança) usando o método de bootstrap"
      ],
      "metadata": {
        "id": "u_t6FGy0Wn1p"
      }
    },
    {
      "cell_type": "code",
      "source": [
        "bp_dataset_yes_seq = (bp_dataset_yes.values ,) #convertendo array para sequencia\n",
        "bp_dataset_no_seq = (bp_dataset_no.values ,) #convertendo array para sequencia"
      ],
      "metadata": {
        "id": "QFM90tI-WryE"
      },
      "execution_count": 55,
      "outputs": []
    },
    {
      "cell_type": "code",
      "source": [
        "bootstrap_ci_yes = stats.bootstrap(bp_dataset_yes_seq , np.mean, confidence_level=0.95, random_state=1, method='BCa')\n",
        "bootstrap_ci_yes.confidence_interval"
      ],
      "metadata": {
        "colab": {
          "base_uri": "https://localhost:8080/"
        },
        "id": "O7NHi3voTTG7",
        "outputId": "00e6df27-ada4-4c42-f70d-af96b5cb9e59"
      },
      "execution_count": 58,
      "outputs": [
        {
          "output_type": "execute_result",
          "data": {
            "text/plain": [
              "ConfidenceInterval(low=71.77941176470588, high=77.29411764705883)"
            ]
          },
          "metadata": {},
          "execution_count": 58
        }
      ]
    },
    {
      "cell_type": "code",
      "source": [
        "bootstrap_ci_no = stats.bootstrap(bp_dataset_no_seq , np.mean, confidence_level=0.95, random_state=1, method='BCa')\n",
        "bootstrap_ci_no.confidence_interval"
      ],
      "metadata": {
        "colab": {
          "base_uri": "https://localhost:8080/"
        },
        "id": "oFFjeKpsTgIP",
        "outputId": "614afde5-627f-46ef-876c-aa7410652b75"
      },
      "execution_count": 59,
      "outputs": [
        {
          "output_type": "execute_result",
          "data": {
            "text/plain": [
              "ConfidenceInterval(low=67.6590909090909, high=71.47727272727273)"
            ]
          },
          "metadata": {},
          "execution_count": 59
        }
      ]
    },
    {
      "cell_type": "markdown",
      "source": [
        "# Pergunta 4\n",
        "Teste Visual:  Há intersecção entre os intervalos de confiança dos 2 conjuntos de dados acima (com diabetes e sem diabetes)? Isso está de acordo com o teste de diferença significativa entre eles feito na questão 1?\n",
        "\n",
        "Resposta: Não há intersecção entre os intervalos de confiança dos 2 conjuntos de dados acima (com diabetes e sem diabetes). Isso está de acordo com o teste de diferença significativa entre eles feito na questão 1 visto que ambos os conjuntos são diferentes e que o p-valor do Test t foi de 0.0030323591864622732."
      ],
      "metadata": {
        "id": "y3gFDr7YWsK-"
      }
    },
    {
      "cell_type": "markdown",
      "source": [
        "# Pergunta 5 \n",
        "Calcule o Cohen D com o pooled standard deviation para a diferença entre a pressão sangüínea de pacientes com e sem diabetes."
      ],
      "metadata": {
        "id": "7vVI5LfMWvXn"
      }
    },
    {
      "cell_type": "code",
      "source": [
        "from math import sqrt\n",
        "\n",
        "# função cohend(d1, d2) fornecido pelo Prof. Sandro Rigo no Notebook: https://github.com/srigo-MO430/notebooks/blob/main/Analise%20Estatistica%20-%20Parte%201.ipynb \n",
        "\n",
        "# function to calculate Cohen's d for independent samples\n",
        "def cohend(d1, d2):\n",
        "\t# calculate the size of samples\n",
        "\tn1, n2 = len(d1), len(d2)\n",
        "\t# calculate the variance of the samples\n",
        "\ts1, s2 = np.var(d1, ddof=1), np.var(d2, ddof=1)\n",
        "\t# calculate the pooled standard deviation\n",
        "\ts = sqrt(((n1 - 1) * s1 + (n2 - 1) * s2) / (n1 + n2 - 2))\n",
        "\t# calculate the means of the samples\n",
        "\tu1, u2 = np.mean(d1), np.mean(d2)\n",
        "\t# calculate the effect size\n",
        "\treturn (u1 - u2) / s\n",
        " \n",
        "print('Cohens d: ', cohend(bp_dataset_yes, bp_dataset_no))"
      ],
      "metadata": {
        "id": "ciPoqXUXWyee",
        "colab": {
          "base_uri": "https://localhost:8080/"
        },
        "outputId": "46c4b4bd-e7bc-46cb-b753-fb956803548a"
      },
      "execution_count": 63,
      "outputs": [
        {
          "output_type": "stream",
          "name": "stdout",
          "text": [
            "Cohens d:  0.4480342648766951\n"
          ]
        }
      ]
    },
    {
      "cell_type": "markdown",
      "source": [
        "# Pergunta 6\n",
        "Com base nos testes, intervalos de confiança, etc realizados acima sobre o dataset bp.csv, qual a sua conclusão sobre pressão arterial em pacientes com ou sem diabetes?"
      ],
      "metadata": {
        "id": "5mPxHkCwWy8b"
      }
    },
    {
      "cell_type": "markdown",
      "source": [
        "Resposta: Com base nos testes, intervalos de confiança, etc realizados acima sobre o conjunto de dados bp.csv, a conclusão sobre pressão arterial em pacientes com ou sem diabetes que é possível obter é que pacientes com diabetes possuem maiores pressão arterial do que pacientes sem diabetes. \n",
        "\n",
        "\n",
        "*   Os p-valores obtidos nos testes foram  menores que 0.05\n",
        "*   Não houve intersecção entre os intervalos de confiança dos 2 conjuntos de dados acima (com diabetes e sem diabetes)\n",
        "\n",
        "Portanto, sendo a média e mediana maiores para pacientes com diabetes, é possível concluir que a doença causa uma elevação na pressão arterial.\n",
        "\n"
      ],
      "metadata": {
        "id": "zba3vNJwWxcv"
      }
    }
  ]
}